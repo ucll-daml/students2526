{
 "cells": [
  {
   "cell_type": "markdown",
   "metadata": {},
   "source": [
    "<img src=\"images\\Logo_UCLL_ENG_RGB.png\" style=\"background-color:white;\" />\n",
    "\n",
    "# Data Analytics & Machine learning\n",
    "\n",
    "Lecturers: Aimée Lynn Backiel, Kenric Borgelioen, Sofie Torfs, Lies Bollens\n",
    "\n",
    "Academic year 2025-2026\n",
    "\n",
    "## Lab 4: Data visualization"
   ]
  },
  {
   "cell_type": "markdown",
   "metadata": {},
   "source": [
    "### Lecture outline\n",
    "\n",
    "1. Recap last week\n",
    "2. Data visualization with Matplotlib, Seaborn and Plotly "
   ]
  },
  {
   "cell_type": "markdown",
   "metadata": {},
   "source": [
    "### Part 1: recap of last lecture(s)\n",
    "\n",
    "#### Lab 1\n",
    "\n",
    "1. We ensured we had a valid Python installation.\n",
    "2. We learnt what a virtual environment is:\n",
    "   * Isolated Python executable and packages.\n",
    "   * We created a virtual environment.\n",
    "3. Absolute path vs relative path recap.\n",
    "4. Recap of data structures in Python\n",
    "\n",
    "#### Lab 2\n",
    "1. Installed Pandas\n",
    "2. Learnt how to read data\n",
    "3. Learnt how to calculate mean, mode, median etc.\n",
    "4. Basic exploration of the 4 variables\n",
    "\n",
    "#### Lab 3\n",
    "1. Wrapped up computing summary statistics (mean, median, mode, ...)\n",
    "2. Learnt how to deal with outliers \n",
    "3. Focused on exploration of data\n",
    "\n"
   ]
  },
  {
   "cell_type": "markdown",
   "metadata": {},
   "source": [
    "### The case"
   ]
  },
  {
   "cell_type": "markdown",
   "metadata": {},
   "source": [
    "Ada Turing Travelogue, or as everyone calls her, Ada just started working part time at her parents travel agency. She has a keen understanding and interest of everything related to applied computer science ranging from server & system management to full stack software development. Through database foundations she already understands how to query data and programming 1 and 2 covered the essentials about the Python programming language. Recently she has just decided to start learning about data analytics & machine learning as well.\n",
    "\n",
    "She uses her skills to connect to the travel agency's database where she finds many, normalized, tables. Ada recalls what she learnt in database foundations and performs all the correct joins. Afterwards she saves the data in the `data/` folder.\n",
    "\n",
    "\n",
    "She finds the following dataset:\n",
    "\n",
    "| Column Name          | Description                                                                                       |\n",
    "| -------------------- | ------------------------------------------------------------------------------------------------- |\n",
    "| SalesID              | Unique identifier for each sale.                                                                  |\n",
    "| Age                  | Age of the traveler.                                                                              |\n",
    "| Country              | Country of origin of the traveler.                                                                |\n",
    "| Membership_Status    | Membership level of the traveler in the booking system; could be 'standard', 'silver', or 'gold'. |\n",
    "| Previous_Purchases   | Number of previous bookings made by the traveler.                                                 |\n",
    "| Destination          | Travel destination chosen by the traveler.                                                        |\n",
    "| Stay_length          | Duration of stay at the destination.                                                              |\n",
    "| Guests               | Number of guests traveling (including the primary traveler).                                             |\n",
    "| Travel_month         | Month in which the travel is scheduled.                                                           |\n",
    "| Months_before_travel | Number of months prior to travel that the booking was made.                                       |\n",
    "| Earlybird_discount   | Boolean flag indicating whether the traveler received an early bird discount.                     |\n",
    "| Package_Type         | Type of travel package chosen by the traveler.                                                    |\n",
    "| Cost                 | Calculated cost of the travel package.                                                            |\n",
    "| Margin | The cost (for the traveler) - what the travel agency pays. |\n",
    " | Additional_Services_Cost| The amount of additional services (towels, car rentals, room service, ...) that was bought during the trip. |\n"
   ]
  },
  {
   "cell_type": "markdown",
   "metadata": {},
   "source": [
    "### Helping Ada explore the dataset"
   ]
  },
  {
   "cell_type": "markdown",
   "metadata": {},
   "source": [
    "The main goal for the remainder of this lab is to explore the data. We will specifically take five columns:\n",
    "\n",
    "* Cost\n",
    "* Age\n",
    "* Stay length\n",
    "* Destination\n",
    "* Country\n",
    "\n",
    "Our goal is to find interesting relationships between them. Last lab, we have done some analyses using pandas, by calculating numerical values. This lab, we will visualize these relations and compare the clarity of numbers vs plots. \n",
    "\n",
    "As was covered in the book and lecture there are to main data types in analytics: categorical and continuous data. This is a crucial first step in your analysis because it determines what methods make sense on your data.\n"
   ]
  },
  {
   "cell_type": "markdown",
   "metadata": {},
   "source": [
    "**The goal is primarily to find out what influences the cost of the stay.**"
   ]
  },
  {
   "cell_type": "markdown",
   "metadata": {},
   "source": [
    "### Part 2: Introduction to plotting with Matplotlib, Seaborn and Plotly\n",
    "\n",
    "We have helped Ada so far to gain insights into her data by wrangling it into shape and making tables to summarize data. Now, to further enhance our understanding and visualize the patterns, trends, and potential anomalies, we will be plotting the data. \n",
    "\n",
    "Making data visual simplifies complex datasets and also makes it more intuitive for stakeholders to grasp key takeaways. By transitioning from tabular summaries to graphical plots, we can also communicate more effectively."
   ]
  },
  {
   "cell_type": "markdown",
   "metadata": {},
   "source": [
    "#### How and why would you visualize data? From Exploration to Presentation\n",
    "\n",
    "When dealing with data, there's a journey we often embark on:\n",
    "\n",
    "1. **Exploratory Phase (Exploratory Data Analysis)**: \n",
    "   - **What it is**: At this stage, we're diving into the data, much like a researcher in a lab. We're experimenting, testing hypotheses, and analyzing patterns. It's a phase of discovery, and sometimes it gets technical and intricate.\n",
    "   - **Who it's for**: Primarily for those who are closely working with the data, like data scientists and analysts. It's about understanding, not necessarily communicating.\n",
    "   - **Visuals**: Charts and graphs here can be detailed and complex because they serve as tools for understanding.\n",
    "\n",
    "2. **Presentation Phase (Explanatory Data Visualization)**: \n",
    "   - **What it is**: Once we've gained insights from our exploration, it's time to share them. Think of this as distilling our findings into a clear message or story.\n",
    "   - **Who it's for**: A wider audience, which could include stakeholders, team members, or anyone who needs to understand the main takeaways.\n",
    "   - **Visuals**: Here, simplicity and clarity take the front seat. The visuals are designed to be understood quickly and should align with the principles of clarity, simplicity, accuracy, and relevance.\n",
    "\n",
    "In short, the process starts with a deep dive into the data for insights and ends with a clear, concise presentation of those insights for everyone to grasp."
   ]
  },
  {
   "cell_type": "markdown",
   "metadata": {},
   "source": [
    "In the case of explanatory data analysis the following four principles hold:\n",
    "\n",
    "1. **Clarity**: The main goal is to convey insights in a way that's immediately understandable. If you have to spend too much time figuring out what a chart is saying, then it's not doing its job.\n",
    "\n",
    "2. **Simplicity**: The most effective visuals are often the simplest. It's about getting the message across, not showing off fancy graphics.\n",
    "\n",
    "3. **Accuracy**: It's vital to represent data truthfully. Misleading visuals not only harm credibility but can also lead to wrong conclusions.\n",
    "\n",
    "4. **Relevance**: Every piece of information on your visual should serve a purpose. If it doesn't help convey the main insight, consider removing it.\n",
    "\n",
    "With these principles in mind, our aim in this lab is to create visuals that stand on their own and communicate effectively. We want every chart or graph to be so intuitive that it needs little to no explanation."
   ]
  },
  {
   "cell_type": "markdown",
   "metadata": {},
   "source": [
    "#### Reading and exploring data\n",
    "\n",
    "As always, we start by loading our dataset. We start with the dataset that we ended with last lab: all the faulty costs are already removed. "
   ]
  },
  {
   "cell_type": "code",
   "execution_count": null,
   "metadata": {},
   "outputs": [],
   "source": [
    "import pandas as pd # by convention\n",
    "pd.options.display.float_format = '{:.2f}'.format"
   ]
  },
  {
   "cell_type": "code",
   "execution_count": null,
   "metadata": {},
   "outputs": [],
   "source": [
    "travel_dataset = pd.read_csv(\"data/lab_4_dataset.csv\")"
   ]
  },
  {
   "cell_type": "markdown",
   "metadata": {},
   "source": [
    "### Introduction to plotting with Matplotlib, Seaborn and Plotly"
   ]
  },
  {
   "cell_type": "markdown",
   "metadata": {},
   "source": [
    "### 1) Matplotlib\n",
    "\n",
    "<center>\n",
    "<img src=\"https://matplotlib.org/stable/_images/sphx_glr_logos2_003.png\" style=\"background-color:white\">\n",
    "</center>"
   ]
  },
  {
   "cell_type": "markdown",
   "metadata": {},
   "source": [
    "The name matplotlib comes from matrix plotting library. It's a descendant from the MATLAB programming language. It's by now an older library (2003) that has some quirks, but it is still important to know the basics of Matplotlib since other Python plotting libraries build on top of it. We will start by showing some basic plotting skills in matplotlib and then move onto more sophisticated libraries, which you will probably prefer to use. "
   ]
  },
  {
   "cell_type": "code",
   "execution_count": null,
   "metadata": {},
   "outputs": [],
   "source": [
    "# uncomment to install\n",
    "# %pip install matplotlib\n",
    "# %pip install seaborn \n",
    "# %pip install plotly "
   ]
  },
  {
   "cell_type": "code",
   "execution_count": null,
   "metadata": {},
   "outputs": [],
   "source": [
    "import matplotlib.pyplot as plt # convention\n",
    "import numpy as np"
   ]
  },
  {
   "cell_type": "markdown",
   "metadata": {},
   "source": [
    "#### Plotting univariate data"
   ]
  },
  {
   "cell_type": "markdown",
   "metadata": {},
   "source": [
    "\n",
    "The table below is a summary of the different types of plots for **numeric data**.\n",
    "\n",
    "| Plot Type          | Description                                           | When to Use                                                      |\n",
    "|--------------------|-------------------------------------------------------|------------------------------------------------------------------|\n",
    "| **Histogram**      | Displays the distribution of a single continuous variable by dividing the data into bins and showing the frequency of observations in each bin. | To visualize the distribution of a variable, especially to identify its central tendency (mean), spread (standard deviation), and skewness (are low or high values more common).  |\n",
    "| **Box Plot (or Whisker Plot)** | Shows the distribution of a variable using quartiles and displays potential outliers. | To get a summary of a variable's distribution in terms of its median, quartiles, and possible outliers. Useful when comparing the distribution across categories. |\n",
    "| **Density Plot (or Kernel Density Plot)** | Provides a smoothed version of a histogram. | To visualize the distribution of a variable in a continuous manner. Particularly useful when comparing the distributions of multiple variables on the same plot. |\n",
    "| **Violin Plot**    | Combines aspects of box plots and density plots.       | To visualize both the distribution and summary statistics of a variable. Especially useful when comparing across different categories. |\n"
   ]
  },
  {
   "cell_type": "markdown",
   "metadata": {},
   "source": [
    "#### 1.1 ) Basic plotting in matplotlib: some quick examples. \n",
    "\n",
    "\n",
    "The syntax for plotting is generally `plt.<plotType>(x, y)`. \n"
   ]
  },
  {
   "cell_type": "code",
   "execution_count": null,
   "metadata": {},
   "outputs": [],
   "source": [
    "plt.boxplot(travel_dataset[\"age\"]); # Matplotlib prints things while plotting, the semicolon an suppress it."
   ]
  },
  {
   "cell_type": "markdown",
   "metadata": {},
   "source": [
    "A boxplot provides a comprehensive view of a dataset's distribution, offering more detailed insights than typical tables. The central line within the box represents the median, splitting the data into its lower and upper halves. The box itself is framed by two lines: the lower boundary represents the 25th percentile (or Q1), meaning 25% of the data lies below this value, and the upper boundary denotes the 75th percentile (or Q3), indicating that 75% of the data is below this point.\n",
    "\n",
    "The range between Q3 and Q1 is known as the Interquartile Range (IQR). Beyond the box, the plot extends 'whiskers'. Their \"distance\" is calculated as `1.5 * IQR` both above and below the box, providing a range for typical data points. Any data outside these whiskers can be considered outliers.\n",
    "\n",
    "\n"
   ]
  },
  {
   "cell_type": "markdown",
   "metadata": {},
   "source": [
    "Depending on the data, it might be more intuitive and explanatory to use a histogram instead of a boxplot. A histogram splits the data up into different bins, and then counts how many data points belong to each bin. When it is not immediately obvious which of the two plot types you prefer or is the best, you can always plot both. As usual, you do not have to only use one method. \n",
    "\n",
    "Below, we plot a histogram for the variable `age` and `cost`"
   ]
  },
  {
   "cell_type": "code",
   "execution_count": null,
   "metadata": {},
   "outputs": [],
   "source": [
    "plt.hist(travel_dataset[\"age\"], bins=50);"
   ]
  },
  {
   "cell_type": "code",
   "execution_count": null,
   "metadata": {},
   "outputs": [],
   "source": [
    "plt.hist(travel_dataset[\"cost\"], bins=100);"
   ]
  },
  {
   "cell_type": "markdown",
   "metadata": {},
   "source": [
    "For categorical data, categories can often serve as a basis for comparison in other plots, like boxplots. This means you can use a single category to differentiate data within such plots. You can also produce the same type of plot multiple times, once for each category, to analyze patterns within individual categories.\n",
    "\n",
    "If you want to just look at a categoric variable, you can use a bar plot, as shown below. This will give you very similar information to using the `value_counts()` function in pandas that we saw last lab.  \n",
    "\n",
    "\n",
    "| Plot Type     | Description                                          | When to Use                                         |\n",
    "|---------------|------------------------------------------------------|-----------------------------------------------------|\n",
    "| **Count Plot**| Represents the frequency or count of each category.  | To see how often each category appears in the data. |"
   ]
  },
  {
   "cell_type": "code",
   "execution_count": null,
   "metadata": {},
   "outputs": [],
   "source": [
    "country_counts = travel_dataset[\"country\"].value_counts()\n",
    "plt.bar(x=country_counts.index, height=country_counts);"
   ]
  },
  {
   "cell_type": "markdown",
   "metadata": {},
   "source": [
    "\n",
    "##### ❓ How do the plots so far score on our 4 criteria? Clarity, Simplicity, Accuracy and Relevance:\n",
    "\n",
    "1. **Clarity**: The main goal is to convey insights in a way that's immediately understandable. If you have to spend too much time figuring out what a chart is saying, then it's not doing its job.\n",
    "\n",
    "2. **Simplicity**: The most effective visuals are often the simplest. It's about getting the message across, not showing off fancy graphics.\n",
    "\n",
    "3. **Accuracy**: It's vital to represent data truthfully. Misleading visuals not only harm credibility but can also lead to wrong conclusions.\n",
    "\n",
    "4. **Relevance**: Every piece of information on your visual should serve a purpose. If it doesn't help convey the main insight, consider removing it.\n"
   ]
  },
  {
   "cell_type": "markdown",
   "metadata": {},
   "source": [
    "YOUR ANSWER HERE "
   ]
  },
  {
   "cell_type": "markdown",
   "metadata": {},
   "source": [
    "#### 1.2) Customizing our graphs "
   ]
  },
  {
   "cell_type": "markdown",
   "metadata": {},
   "source": [
    "In order to use matplotlib properly it's important to understand how the library expects you to use it. Many of the qualms people have of matplotlib are due to fighting against it's API. To understand how the library wants to be used it is always a good idea to consult <a href=\"https://matplotlib.org/stable/users/explain/quick_start.html\">the documentation</a>."
   ]
  },
  {
   "cell_type": "markdown",
   "metadata": {},
   "source": [
    "<center>\n",
    "<img src=\"https://matplotlib.org/stable/_images/anatomy.png\" style=\"background-color:white;width:50%\">\n",
    "</center>\n",
    "\n",
    "\n",
    "The image below explains the key idea of Matplotlib. Plots are made on a `Figure` object. A `Figure` object can contain multiple `Axes`. `Axes` are the things you are plotting on. There are more elements than this, but for the scope of this course this is enough to get started. \n",
    "\n",
    "Instead of using `plt.<plotType>` as we have done in the past, we will explicitly make a `Figure` and plot on the axis. This allows us to configure the `Figure`.\n",
    "\n",
    "The figure above shows many of the customization options you have."
   ]
  },
  {
   "cell_type": "code",
   "execution_count": null,
   "metadata": {},
   "outputs": [],
   "source": [
    "fig, ax = plt.subplots() # Notice the S, subplots not subplot. \n",
    "ax.boxplot(travel_dataset[\"cost\"])\n",
    "ax.set_title(\"Distribution of the cost of travel\")\n",
    "ax.set_ylabel(\"Cost (in €)\")\n",
    "ax.set_xlabel(\"\")\n",
    "ax.set_xticklabels(\"\");"
   ]
  },
  {
   "cell_type": "markdown",
   "metadata": {},
   "source": [
    "We can also have multiple axes in a figure. We can do that by specifying the rows and columns in `plt.subplots()`.\n",
    "\n",
    "Notice the difference between the left and the right plot. Which one of the two would you prefer to interpret? "
   ]
  },
  {
   "cell_type": "code",
   "execution_count": null,
   "metadata": {},
   "outputs": [],
   "source": [
    "fig, ax = plt.subplots(nrows=1, ncols=2)\n",
    "fig.suptitle(\"Before and after of our plot\")\n",
    "ax[0].boxplot(travel_dataset[\"cost\"])\n",
    "ax[0].set_title(\"Distribution of the cost of travel\")\n",
    "ax[0].set_ylabel(\"Cost (in €)\")\n",
    "ax[0].set_xlabel(\"\")\n",
    "ax[0].set_xticklabels(\"\");\n",
    "\n",
    "ax[1].boxplot(travel_dataset[\"cost\"]);"
   ]
  },
  {
   "cell_type": "markdown",
   "metadata": {},
   "source": [
    "Notice how adding `nrows` and `ncols` turns our `Axes` into a (Numpy) array. To plot we simply index the right one and plot. The next step we need to do is make our plot larger. That is done by using the `figsize` argument in `plt.subplots`. "
   ]
  },
  {
   "cell_type": "code",
   "execution_count": null,
   "metadata": {},
   "outputs": [],
   "source": [
    "fig, ax = plt.subplots(1,2, figsize=(12, 6))\n",
    "fig.suptitle(\"Before and after of our plot\")\n",
    "ax[0].boxplot(travel_dataset[\"cost\"])\n",
    "ax[0].set_title(\"Distribution of the cost of travel\")\n",
    "ax[0].set_ylabel(\"Cost (in €)\")\n",
    "ax[0].set_xlabel(\"\")\n",
    "ax[0].set_xticklabels(\"\");\n",
    "ax[1].boxplot(travel_dataset[\"cost\"]);"
   ]
  },
  {
   "cell_type": "markdown",
   "metadata": {},
   "source": [
    "##### ❓ Make a figure that consists of two axes with a histogram and a boxplot for our Cost. Ensure the plot takes into account clarity. Play around with the bins argument of `plt.hist` to find a good value for the amount of bins "
   ]
  },
  {
   "cell_type": "code",
   "execution_count": null,
   "metadata": {},
   "outputs": [],
   "source": [
    "#YOUR CODE HERE\n"
   ]
  },
  {
   "cell_type": "markdown",
   "metadata": {},
   "source": [
    "##### ❓ Make a figure that will help you to directly compare the cost per destination. Are histograms or boxplots better for this purpose? \n"
   ]
  },
  {
   "cell_type": "code",
   "execution_count": null,
   "metadata": {},
   "outputs": [],
   "source": [
    "#YOUR CODE HERE"
   ]
  },
  {
   "cell_type": "markdown",
   "metadata": {},
   "source": [
    "YOUR ANSWER HERE"
   ]
  },
  {
   "cell_type": "markdown",
   "metadata": {},
   "source": [
    "#### 1.3) Plotting directly from Pandas\n",
    "\n",
    "There is an additional way to make that you can use if you do not want to interact directly with Matplotlib. Selecting data with Pandas and using `.plot()` will make a similar plot with less effort. It's still important to know the fundamentals of Matplotlib because it still uses it under the hood and customization may still require using the subplots API. We will show you two styles of interacting with it."
   ]
  },
  {
   "cell_type": "code",
   "execution_count": null,
   "metadata": {},
   "outputs": [],
   "source": [
    "# here, we just directly plot from our pandas dataframe. Note that it is more difficult to customize the plot this way, \n",
    "# but it is faster to do simple plots. However, the clarity of the plot is not always optimal (for example, there is no title here )\n",
    "travel_dataset[\"country\"].value_counts().plot(kind='bar')"
   ]
  },
  {
   "cell_type": "code",
   "execution_count": null,
   "metadata": {},
   "outputs": [],
   "source": [
    "# Here, we first create the figure and axes with plt.subplots and then we pass the axes to pandas to plot on it. \n",
    "# This way, we can customize the plot more easily. The clarity of the plot is also better this way.\n",
    "fig, ax = plt.subplots(1, 2, figsize=(12, 6))\n",
    "fig.suptitle(\"Departure locations and destinations\")\n",
    "ax[0].set_title(\"Country of origin\")\n",
    "ax[0].set_ylabel(\"Frequency\")\n",
    "travel_dataset[\"country\"].value_counts().plot(kind=\"bar\", ax=ax[0])\n",
    "travel_dataset[\"destination\"].value_counts().plot(kind=\"bar\", title=\"Destination\", ax=ax[1], ylabel=\"Frequency\");\n"
   ]
  },
  {
   "cell_type": "markdown",
   "metadata": {},
   "source": [
    "### 2) Bivariate and multivariate plotting with Seaborn\n",
    "\n",
    "<center>\n",
    "<img src=\"https://seaborn.pydata.org/_images/logo-wide-lightbg.svg\" style=\"background-color:white;width:50%\">\n",
    "</center>\n",
    "\n",
    "\n"
   ]
  },
  {
   "cell_type": "markdown",
   "metadata": {},
   "source": [
    "Seaborn is the next plotting library we will use. It should be your go-to in the Python, especially if you're using Pandas. It was specifically built with the Pandas library and data analysis in mind. It makes doing certain plots a lot easier and has a number of sensible defaults (e.g., colors) that are better than Matplotlib. At the end of the day, it is fully built on top of Matplotlib so everything we have learn about customization still holds. We will continue our analysis using Seaborn and see how it can aid us in specifically bivariate and multivariate analysis."
   ]
  },
  {
   "cell_type": "code",
   "execution_count": null,
   "metadata": {},
   "outputs": [],
   "source": [
    "import seaborn as sns"
   ]
  },
  {
   "cell_type": "markdown",
   "metadata": {},
   "source": [
    "Last lecture we looked at a number of relationships we found interesting:\n",
    "\n",
    "* Cost and Destination\n",
    "* Cost and Country\n",
    "* Cost and Destination\n",
    "* Age and Destination\n",
    "* Country and Destination"
   ]
  },
  {
   "cell_type": "markdown",
   "metadata": {},
   "source": [
    "#### 2.1) Plots for visualizing bivariate numeric data\n",
    "\n",
    "| Plot Type          | Description                                           | When to Use                                                      |\n",
    "|--------------------|-------------------------------------------------------|------------------------------------------------------------------|\n",
    "| **Scatter Plot**   | Displays values for two variables for a set of data using dots. | To identify relationships or correlations between two numeric variables. |\n",
    "| **Hexbin Plot**    | Groups points into hexagonal bins and colors them based on the count of points in each bin. | When there's a large amount of data that may overlap in a scatter plot. Useful for visualizing density and relationships between two numeric variables. |\n",
    "| **Line Plot**      | Connects data points with lines. Typically used for **time series data**. | To visualize trends over time or the relationship between two numeric variables when there's an ordering to the data points. Do not use this if there's no possible observations between the lines. |\n",
    "| **Joint Plot**     | Combines scatter plots with histograms for each variable. | To view the relationship between two numeric variables and their individual distributions simultaneously. |\n",
    "\n"
   ]
  },
  {
   "cell_type": "code",
   "execution_count": null,
   "metadata": {},
   "outputs": [],
   "source": [
    "# Scatterplot \n",
    "fig, ax = plt.subplots(figsize=(12, 6))\n",
    "ax.set_title(\"Age versus cost of travel\")\n",
    "sns.scatterplot(travel_dataset, x=\"age\", y=\"cost\", ax=ax);\n",
    "\n"
   ]
  },
  {
   "cell_type": "markdown",
   "metadata": {},
   "source": [
    "A a glance we can see that Seaborn comes with a number of sensible defaults:\n",
    "\n",
    "1. The x and y-axis are labeled\n",
    "2. Generally the colors look a bit easier on the eyes than matplotlib.\n",
    "\n",
    "It also has plot types that do not exist natively in Matplotlib such as `sns.countplot` and `sns.jointplot`."
   ]
  },
  {
   "cell_type": "code",
   "execution_count": null,
   "metadata": {},
   "outputs": [],
   "source": [
    "import matplotlib.ticker as ticker"
   ]
  },
  {
   "cell_type": "markdown",
   "metadata": {},
   "source": [
    "Jointplot: combined scatterplot and histograms\n",
    "\n",
    "Notice how Seaborn sometimes returns objects that wrap Matplotlib `Figure`s and `Axes`. \n",
    "\n",
    "It's a higher level interface to Matplotlib so we still need to dip into the lower level interface to do certain things.\n",
    "\n",
    "❓ You can play with the `kind` variable (try out `hex` or `hist` or `scatter` and observe the differences). As always, if you want to know more about the different options, the offical documentation page provides very good examples. In this case: https://seaborn.pydata.org/generated/seaborn.jointplot.html\n",
    "\n",
    "❓Another fun parameter is `hue`, which automatically colors the data points according to the row you give it. for example. try out `hue=membership_status`. At this point it wil probably make your plot too cluttered, as we are plotting the whole dataset, and already have a lot of information on our plot, but it will be a very useful parameter. We will come back on this later in the lab"
   ]
  },
  {
   "cell_type": "code",
   "execution_count": null,
   "metadata": {},
   "outputs": [],
   "source": [
    "\n",
    "\n",
    "g = sns.jointplot(travel_dataset, x=\"age\", y=\"cost\", kind='hex'); \n",
    "g.figure.subplots_adjust(top=0.9) # Add some spacing \n",
    "g.figure.suptitle(\"Relationship between age and cost\")\n",
    "g.ax_joint.yaxis.set_major_locator(ticker.MultipleLocator(5000)) # This is how to increase the tick frequency "
   ]
  },
  {
   "cell_type": "markdown",
   "metadata": {},
   "source": [
    "##### ❓ The last plot is a combination of a hexgrid and a histogram. How well does it score in terms of our 4 criteria:\n",
    "\n",
    "\n",
    "1. **Clarity**: The main goal is to convey insights in a way that's immediately understandable. If you have to spend too much time figuring out what a chart is saying, then it's not doing its job.\n",
    "\n",
    "2. **Simplicity**: The most effective visuals are often the simplest. It's about getting the message across, not showing off fancy graphics.\n",
    "\n",
    "3. **Accuracy**: It's vital to represent data truthfully. Misleading visuals not only harm credibility but can also lead to wrong conclusions.\n",
    "\n",
    "4. **Relevance**: Every piece of information on your visual should serve a purpose. If it doesn't help convey the main insight, consider removing it."
   ]
  },
  {
   "cell_type": "markdown",
   "metadata": {},
   "source": [
    "YOUR ANSWER HERE "
   ]
  },
  {
   "cell_type": "markdown",
   "metadata": {},
   "source": [
    "##### ❓ Make a figure that will help you to directly compare the cost per destination. Are histograms or boxplots better for this purpose? Normally, creating this plot using seaborn should be easier and less work than using matplotlib. \n"
   ]
  },
  {
   "cell_type": "code",
   "execution_count": null,
   "metadata": {},
   "outputs": [],
   "source": [
    "#YOUR CODE HERE\n"
   ]
  },
  {
   "cell_type": "markdown",
   "metadata": {},
   "source": [
    "YOUR OBSERVATIONS HERE"
   ]
  },
  {
   "cell_type": "markdown",
   "metadata": {},
   "source": [
    "##### ❓The scatterplot of age vs cost had a lot of variable on the x-axis. A way to make to plot more clear could be to bin the ages in age groups and then plot a boxplot for the cost for each age group. Create such a plot and compare it with the scatterplot. Which one would you choose and why? (Would you choose the same plot for data exploration as for showing it in a presenation?)"
   ]
  },
  {
   "cell_type": "code",
   "execution_count": null,
   "metadata": {},
   "outputs": [],
   "source": [
    "#YOUR CODE HERE"
   ]
  },
  {
   "cell_type": "markdown",
   "metadata": {},
   "source": [
    "#### 2.2) Categorical - Numeric Data: small multiples and colour coding\n"
   ]
  },
  {
   "cell_type": "markdown",
   "metadata": {},
   "source": [
    "**Small multiples**\n",
    "\n",
    "Imagine you have a lot of similar data points from different categories, and you want to compare them side by side. This is where the magic of small multiples comes into play.\n",
    "\n",
    "**What Are Small Multiples?**\n",
    "Small multiples are a series of similar graphs or charts using the same scale and axes, allowing them to be easily compared. They divide data by categories and present each category in its own panel within a larger visualization.\n",
    "\n",
    "**Why Use Them?**\n",
    "\n",
    "1. **Consistency**: Because each graph uses the same scale and axes, it's easy to compare data across categories directly.\n",
    "2. **Clarity**: By separating data into individual panels, the viewer can clearly see patterns or trends within each category without them being obscured by other data.\n",
    "3. **Efficiency**: Instead of toggling between different views or using interactive tools to sift through data, viewers get a simultaneous snapshot of all categories at once.\n",
    "\n",
    "**Remember**: \n",
    "The general idea behind small multiples is consistency in presentation but separation in data. By creating one graph per category, you're allowing your audience to quickly and efficiently draw insights from a collective set of data points, making your presentation both comprehensive and comprehensible."
   ]
  },
  {
   "cell_type": "code",
   "execution_count": null,
   "metadata": {},
   "outputs": [],
   "source": [
    "g = sns.displot(travel_dataset, x=\"cost\", col=\"package_Type\")\n",
    "g.figure.suptitle(\"Distribution of the cost per package type\")\n",
    "g.figure.subplots_adjust(top=0.85)"
   ]
  },
  {
   "cell_type": "markdown",
   "metadata": {},
   "source": [
    "**Color-Coding**\n",
    "\n",
    "Sometimes, when we have multiple categories of data, it can be effective to display them all on one graph, using color as a key differentiator. \n",
    "\n",
    "**Why Use Color-Coding?**\n",
    "\n",
    "1. **Unified View**: One of the main advantages of using color is that it presents all the categories in a single, unified plot. This can provide a holistic view and show interactions or overlaps between categories.\n",
    " \n",
    "2. **Space Efficiency**: Instead of dividing your canvas into multiple sections, color-coding allows you to utilize the entire space for a singular, impactful visualization.\n",
    "\n",
    "3. **Quick Comparisons**: With the right color choices, the eye can quickly discern between categories and compare their relative positions or values.\n",
    "\n",
    "**When is Color-Coding Useful?**\n",
    "\n",
    "1. **Limited Categories**: Color-coding works best when the number of categories is limited. If there are too many categories, the plot can become cluttered and colors hard to distinguish.\n",
    "\n",
    "2. **Overlapping Data Points**: If you're interested in seeing where data points from different categories intersect or overlap, using color on a single plot can be very effective.\n",
    "\n",
    "3. **Emphasis on Relationships**: When the relationship or interaction between categories is more important than individual category trends, a color-coded unified plot can be invaluable.\n",
    "\n",
    "\n",
    "**Comparison with Small Multiples**: \n",
    "While small multiples separate data by categories into individual panels for clarity, color-coded plots display all data on one graph for a unified perspective. The choice between them often depends on the specific goals of the visualization and the nature of the data."
   ]
  },
  {
   "cell_type": "code",
   "execution_count": null,
   "metadata": {},
   "outputs": [],
   "source": [
    "fig, ax = plt.subplots(figsize=(12,6))\n",
    "ax.set_title(\"Distribution of cost per package type\")\n",
    "sns.histplot(travel_dataset, x=\"cost\", hue=\"package_Type\",ax=ax)"
   ]
  },
  {
   "cell_type": "markdown",
   "metadata": {},
   "source": [
    "##### ❓Look back at the other plots we already made with seaborn this course and try to add different color-schemes. Adding color-coding happens by adding a parameter `hue=column_name` to our plots. Is color coding on `membership_status` useful, or on `country` or on `destination` or on any other categorical variable? In which plots we already made does it add value and in which plots does it just clutter the plot? Try out different values on different plots and observe how it changes the plots "
   ]
  },
  {
   "cell_type": "code",
   "execution_count": null,
   "metadata": {},
   "outputs": [],
   "source": [
    "#YOUR CODE HERE"
   ]
  },
  {
   "cell_type": "markdown",
   "metadata": {},
   "source": [
    "\n",
    "\n",
    "#### 2.3) Categorical - Categorical Data\n",
    "\n",
    "| Plot Type          | Description                                           | When to Use                                                      |\n",
    "|--------------------|-------------------------------------------------------|------------------------------------------------------------------|\n",
    "| **Contingency Table (or Cross Tabulation)** | Shows the frequency of combinations of categories. | To summarize the relationship between two categorical variables in tabular form. |\n"
   ]
  },
  {
   "cell_type": "code",
   "execution_count": null,
   "metadata": {},
   "outputs": [],
   "source": [
    "fig, ax = plt.subplots(figsize=(8,8))\n",
    "ax.set_title(\"Counts for countries and destinations\")\n",
    "sns.histplot(data=travel_dataset, x=\"country\", y=\"destination\", legend=True, ax=ax)"
   ]
  },
  {
   "cell_type": "markdown",
   "metadata": {},
   "source": [
    "#### 2.4) Multivariate analysis "
   ]
  },
  {
   "cell_type": "markdown",
   "metadata": {},
   "source": [
    "**Multivariate Plots: Merging Small Multiples with Color-Coding**\n",
    "\n",
    "**The combination's Strength**:\n",
    "- **Depth & Breadth**: By pairing small multiples with color-coding, you can showcase multiple data dimensions at once.\n",
    "- **Rich Insights**: Great for spotting intricate patterns and trends.\n",
    "  \n",
    "**Challenges**:\n",
    "- **Information Overload**: Can be overwhelming due to the sheer amount of data presented.\n",
    "- **Clarity & Legibility**: Risk of visual clutter. Keep designs clean and distinct.\n",
    "\n",
    "**Best Use Cases**:\n",
    "- **In-depth Exploration**: Ideal for deep data dives.\n",
    "- **Specialized Audiences**: Suited for experts familiar with the data or domain.\n",
    "  \n",
    "**Conclusion**: \n",
    "Combining small multiples with color-coding offers a detailed data view, but it's essential to consider the audience. While powerful for **exploration**, it may be too dense for general presentations (explanation).\n",
    "\n",
    "\n",
    "For example, we could try to explore the relationship between cost and age and see if there is difference depending on the country and the package type. The plot below will give us many variables all at once. In our exploration phase as data scientists, we can use this plot, but don't show it on a final presentation, because for outsiders, it will just be overwhelming. "
   ]
  },
  {
   "cell_type": "code",
   "execution_count": null,
   "metadata": {},
   "outputs": [],
   "source": [
    "\n",
    "plot = sns.relplot(travel_dataset, x=\"age\", y=\"cost\", col=\"country\", col_wrap=4, hue=\"package_Type\");\n",
    "plot.figure.suptitle(\"Relationship between cost and age by country and package type\");\n",
    "plot.figure.subplots_adjust(top=0.9) # Ensure 10 % of the space is left for the title"
   ]
  },
  {
   "cell_type": "markdown",
   "metadata": {},
   "source": [
    "The true power of seaborn lies within the `hue` and `color` arguments. We can use that to make powerful graphs, as we already saw before\n",
    "\n",
    "\n",
    "##### ❓Create a plot where you show the costs of the additional services costs versus the real cost and color it by the type of package. What do you observe? \n"
   ]
  },
  {
   "cell_type": "code",
   "execution_count": null,
   "metadata": {},
   "outputs": [],
   "source": [
    "# YOUR ANSWER HERE"
   ]
  },
  {
   "cell_type": "markdown",
   "metadata": {},
   "source": [
    "#### 3) Plotly \n",
    "\n",
    "💻📊💡 We'll be using a third data visualization library called Plotly. We will not explicitly cover the syntax but we encourage you to explore it: https://plotly.com/python/plotly-express/ and use it as the graphs are interactive.\n",
    "\n",
    "Below, we have added some examples of how you can create plots using plotly and create similar graphs to the ones we have already made using seaborn. \n",
    "\n",
    " ❓ For all of the graphs: figure out \n",
    " 1) What is being plotted and how it is being plotted\n",
    " 2) What are the arguments you can give to plotly and can you play around with them to create different plots?\n",
    "\n",
    " CREATE YOUR OWN MARKDOWN CELL(S) WITH YOUR ANSWERS. You can choose if you want to explain each graph seperatly our discusds multiple together.\n",
    "\n",
    " We encourage you to play around with both seaborn and plotly. Which one of these libraries you use, is up to you. Depending on what you want to plot, you will probably prefer one over the other. Or, you will find out after a while that you are mostly working with one of the two libraries. That is all fine, the idea is that you use whatever library and plot that will enable you to visualize the data in the way you want to. "
   ]
  },
  {
   "cell_type": "code",
   "execution_count": null,
   "metadata": {},
   "outputs": [],
   "source": [
    "import plotly.express as px\n",
    "\n",
    "px.imshow(travel_dataset[[\"cost\",\"age\", \"stay_length\", \"months_before_travel\", \"guests\"]].corr().round(3), title=\"correlation heatmap\", width=750)\n"
   ]
  },
  {
   "cell_type": "code",
   "execution_count": null,
   "metadata": {},
   "outputs": [],
   "source": [
    "px.histogram(travel_dataset, x=\"country\", y=\"cost\", histfunc=\"avg\", title=\"Average cost per country\")"
   ]
  },
  {
   "cell_type": "code",
   "execution_count": null,
   "metadata": {},
   "outputs": [],
   "source": [
    "px.histogram(travel_dataset, x=\"destination\", y=\"cost\", histfunc=\"avg\", title=\"Average cost per destination\")"
   ]
  },
  {
   "cell_type": "code",
   "execution_count": null,
   "metadata": {},
   "outputs": [],
   "source": [
    "px.histogram(travel_dataset, x=\"country\", y=\"cost\", histfunc=\"avg\", title=\"Average cost per country, by destination (1)\", color=\"destination\", barmode=\"group\")"
   ]
  },
  {
   "cell_type": "code",
   "execution_count": null,
   "metadata": {},
   "outputs": [],
   "source": [
    "px.histogram(travel_dataset, x=\"country\", y=\"cost\", histfunc=\"avg\", title=\"Average cost per country, by destination (2)\", facet_col=\"destination\")"
   ]
  },
  {
   "cell_type": "code",
   "execution_count": null,
   "metadata": {},
   "outputs": [],
   "source": [
    "px.histogram(travel_dataset, x=\"package_Type\", title=\"Distribution of the package\")"
   ]
  },
  {
   "cell_type": "code",
   "execution_count": null,
   "metadata": {},
   "outputs": [],
   "source": [
    "px.histogram(travel_dataset, x=\"package_Type\", y = \"cost\", histfunc=\"avg\", color=\"destination\", barmode=\"group\", title=\"Distribution of the package\")"
   ]
  },
  {
   "cell_type": "code",
   "execution_count": null,
   "metadata": {},
   "outputs": [],
   "source": [
    "px.scatter(travel_dataset, x=\"age\", y=\"cost\")"
   ]
  }
 ],
 "metadata": {
  "kernelspec": {
   "display_name": "data-analytics-machine-learning-book-py3.11",
   "language": "python",
   "name": "python3"
  },
  "language_info": {
   "codemirror_mode": {
    "name": "ipython",
    "version": 3
   },
   "file_extension": ".py",
   "mimetype": "text/x-python",
   "name": "python",
   "nbconvert_exporter": "python",
   "pygments_lexer": "ipython3",
   "version": "3.11.0"
  },
  "orig_nbformat": 4
 },
 "nbformat": 4,
 "nbformat_minor": 2
}
