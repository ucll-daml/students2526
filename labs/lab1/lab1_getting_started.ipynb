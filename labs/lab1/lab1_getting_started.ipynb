{
 "cells": [
  {
   "cell_type": "markdown",
   "metadata": {},
   "source": [
    "<img src=\"images\\Logo_UCLL_ENG_RGB.png\" style=\"background-color:white;\" />\n",
    "\n",
    "# Data Analytics & Machine learning\n",
    "\n",
    "Lecturers: Aimée Lynn Backiel, Kenrick Borgelioen, Sofie Torfs, Lies Bollens\n",
    "\n",
    "Academic year 2025-2026\n",
    "\n",
    "## Lab 1: Getting started"
   ]
  },
  {
   "cell_type": "markdown",
   "metadata": {},
   "source": [
    "## Lecture outline\n",
    "\n",
    "1. The boring things\n",
    "   1. Installing Python\n",
    "   2. Virtual environments\n",
    "   3. Working directories, absolute paths and relative paths\n",
    "2. worlds fastest Python recap\n",
    "   1. Lists\n",
    "   2. Dictionaries\n",
    "   3. Tuples\n",
    "   4. Sets\n",
    "   5. (Extra) Generators\n",
    "   6. Functions\n"
   ]
  },
  {
   "cell_type": "markdown",
   "metadata": {},
   "source": [
    "\n",
    "There are several technologies and programming languages that can be used for data science and AI. The image below is an overview of canonical packages used in this domain. The practical part of the course and the assignments will be done through jupyter notebooks. Jupyter stands for Julia, Python and R, the three main programming languages that are used. In this course we will focus on Python and a subset of relevant packages used in data science and AI. \n",
    "\n",
    "<center><img src=\"images\\9rnujgv697bmk2jq3yip.png\"></center>"
   ]
  },
  {
   "cell_type": "markdown",
   "metadata": {},
   "source": [
    "# The boring things\n",
    "\n",
    "<center><img src=\"images\\dependencies.webp\"></center>\n",
    "\n",
    "<br>\n",
    "\n",
    "Our first concern of this lecture is to prevent this image from happening. To that end will do a short recap on how to install Python and how to use virtual environments."
   ]
  },
  {
   "cell_type": "markdown",
   "metadata": {},
   "source": [
    "### Installing Python\n",
    "\n",
    "In order to use Python and the notebooks we recommend you to either:\n",
    "\n",
    "### Using a text editor or IDE (Windows):\n",
    "1. [Install Python through the official website](https://www.python.org/downloads/)\n",
    "2. **On the installation menu press \"Add to PATH**. Adding Python to path allows you to simply write `python script.py` instead of `c:/YOUR/PATH/TO/Python script.py`\n",
    "3.  Install a text editor or IDE that has support for notebooks such as [visual studio code](https://code.visualstudio.com/download) or [juptyer lab](https://jupyter.org/install)\n",
    "4.  For Visual studio code: [install the python plug-in](https://marketplace.visualstudio.com/items?itemName=ms-python.python) and the [jupyter notebook plug-in](https://code.visualstudio.com/docs/datascience/jupyter-notebooks)\n",
    "\n",
    "### Installing Python (Linux):\n",
    "1. Distribution specific: https://docs.python-guide.org/starting/install3/linux/ (make sure you pick Python 3.11)\n",
    "\n",
    "### Using Colab (easier):\n",
    "1. Unzip the folder.\n",
    "2. Add the folder to your personal Google Drive. \n",
    "3. Open the .ipynb file in Google Drive. \n",
    "4. Add the following snippet to the top of the notebook:\n",
    "\n",
    "```python\n",
    "from google.colab import drive\n",
    "drive.mount('/content/drive')\n",
    "```\n",
    "1. Add this line of code to make the folder where the .ipynb file is your working directory  ```%cd /content/drive/My\\ Drive/YOUR FOLDER NAMES HERE``` \n",
    "2. Colab comes with most packages we'll be using preinstalled.\n",
    "\n",
    "\n",
    "**Most importantly: Don't be ashamed to let us know if you're having trouble getting it to work. You're definitely not the only person struggling with this. Try this as soon as possible after the first lab and let us know if you're stuck.**"
   ]
  },
  {
   "cell_type": "markdown",
   "metadata": {},
   "source": [
    "### Virtual environments \n",
    "<center>\n",
    "<figure>\n",
    "<img src=\"images/virtual_envs.webp\">\n",
    "<br>\n",
    "<caption> Image courtesy of Dataquest</caption>\n",
    "</figure>\n",
    "</center>\n",
    "\n",
    "#### The key idea\n",
    "\n",
    "Virtual environments are a key part of any Python workflow. If you have not started using them now is a good time to start.\n",
    "When you install packages without a virtual environment they are added to a your \"system\" Python's. That is problematic for a few reasons:\n",
    "\n",
    "1. It is not uncommon to have multiple projects require the same package under a different version. \n",
    "2. If you install a new package it might update an existing package with a breaking change.\n",
    "3. (Extra) It is easier to version control your project's dependencies.\n",
    "\n",
    "#### Creating a virtual environment\n",
    "\n",
    "The command `python -m venv </insert/path/to/new/virtual/environment/here>` creates a virtual environment. Two things to note:\n",
    "\n",
    "1. Virtual environments can have a name, in the example above it's called `venv` which will create a `.venv` directory.\n",
    "2. You can pick any target directory for your virtual environment or even leave it blank. TIP: Create it in the root of your (Python) project.\n",
    "\n",
    "#### Activating a virtual environment\n",
    "\n",
    "You need to run the right command in your terminal (CTRL+J for those using visual studio code). Afterwards you should see the name of your virtual environment in front of your working  directory. The following commands, copied verbatim from https://docs.python.org/3/library/venv.html, let you activate a virtual environment. The `<venv>` is a path to your virtual environment.\n",
    "\n",
    "\n",
    "\"<table class=\"docutils align-default\">\n",
    "<colgroup>\n",
    "<col style=\"width: 17%\">\n",
    "<col style=\"width: 16%\">\n",
    "<col style=\"width: 67%\">\n",
    "</colgroup>\n",
    "<thead>\n",
    "<tr class=\"row-odd\"><th class=\"head\"><p>Platform</p></th>\n",
    "<th class=\"head\"><p>Shell</p></th>\n",
    "<th class=\"head\"><p>Command to activate virtual environment</p></th>\n",
    "</tr>\n",
    "</thead>\n",
    "<tbody>\n",
    "<tr class=\"row-even\"><td rowspan=\"4\"><p>POSIX</p></td>\n",
    "<td><p>bash/zsh</p></td>\n",
    "<td><p><code class=\"samp docutils literal notranslate\"><span class=\"pre\">$</span> <span class=\"pre\">source</span> <em><span class=\"pre\">&lt;venv&gt;</span></em><span class=\"pre\">/bin/activate</span></code></p></td>\n",
    "</tr>\n",
    "<tr class=\"row-odd\"><td><p>fish</p></td>\n",
    "<td><p><code class=\"samp docutils literal notranslate\"><span class=\"pre\">$</span> <span class=\"pre\">source</span> <em><span class=\"pre\">&lt;venv&gt;</span></em><span class=\"pre\">/bin/activate.fish</span></code></p></td>\n",
    "</tr>\n",
    "<tr class=\"row-even\"><td><p>csh/tcsh</p></td>\n",
    "<td><p><code class=\"samp docutils literal notranslate\"><span class=\"pre\">$</span> <span class=\"pre\">source</span> <em><span class=\"pre\">&lt;venv&gt;</span></em><span class=\"pre\">/bin/activate.csh</span></code></p></td>\n",
    "</tr>\n",
    "<tr class=\"row-odd\"><td><p>PowerShell</p></td>\n",
    "<td><p><code class=\"samp docutils literal notranslate\"><span class=\"pre\">$</span> <em><span class=\"pre\">&lt;venv&gt;</span></em><span class=\"pre\">/bin/Activate.ps1</span></code></p></td>\n",
    "</tr>\n",
    "<tr class=\"row-even\"><td rowspan=\"2\"><p>Windows</p></td>\n",
    "<td><p>cmd.exe</p></td>\n",
    "<td><p><code class=\"samp docutils literal notranslate\"><span class=\"pre\">C:\\&gt;</span> <em><span class=\"pre\">&lt;venv&gt;</span></em><span class=\"pre\">\\Scripts\\activate.bat</span></code></p></td>\n",
    "</tr>\n",
    "<tr class=\"row-odd\"><td><p>PowerShell</p></td>\n",
    "<td><p><code class=\"samp docutils literal notranslate\"><span class=\"pre\">PS</span> <span class=\"pre\">C:\\&gt;</span> <em><span class=\"pre\">&lt;venv&gt;</span></em><span class=\"pre\">\\Scripts\\Activate.ps1</span></code></p></td>\n",
    "</tr>\n",
    "</tbody>\n",
    "</table>\n",
    "\"\n",
    "You can also activate a virtual environment from jupyter notebook. You need to select a \"kernel\" before using a notebook which is more or less the equivalent of a venv.\n",
    "\n"
   ]
  },
  {
   "cell_type": "markdown",
   "metadata": {},
   "source": [
    "### Working directory, absolute paths and relative paths\n",
    "\n",
    "We get it, the whole working directory and paths thing can seem mundane when you're eager to dive into the fun parts of coding. But trust me, understanding these concepts now can save you a lot of frustration later on. So, bear with me for a moment and let's break this down:\n",
    "\n",
    "1. **Working Directory**:\n",
    "\n",
    "Think of your computer's file system as a massive library. At any given time, you're standing in one of the aisles (a specific location). This location is your \"working directory\" in programming terms.\n",
    "In Python, you can see where you're currently standing using `os.getcwd()`. It gives you the current directory or 'aisle' where your script is 'looking' by default.\n",
    "Jupyter Notebooks: When you open a Jupyter notebook, the directory it starts in (usually where the notebook file is) becomes its working directory, unless you change it.\n"
   ]
  },
  {
   "cell_type": "code",
   "execution_count": null,
   "metadata": {},
   "outputs": [],
   "source": [
    "import os\n",
    "\n",
    "os.getcwd()"
   ]
  },
  {
   "cell_type": "code",
   "execution_count": null,
   "metadata": {},
   "outputs": [],
   "source": [
    "# If you're having trouble reading a file check if it's in your working directory\n",
    "\n",
    "os.listdir()"
   ]
  },
  {
   "cell_type": "markdown",
   "metadata": {},
   "source": [
    "\n",
    "2. **Absolute Path**:\n",
    "\n",
    "This is the full address of a file or directory in your system. It's like saying, \"Go to the library, enter the North Wing, third aisle, top shelf, fifth book from the left\". No matter where you're starting from, this path will always lead to the same place.\n",
    "Example: /Users/john_doe/Documents/my_project/file.txt (on Unix-based systems) or C:\\Users\\john_doe\\Documents\\my_project\\file.txt (on Windows).\n",
    "\n",
    "Another example is the path printed above."
   ]
  },
  {
   "cell_type": "markdown",
   "metadata": {},
   "source": [
    "3. **Relative Path**:\n",
    "\n",
    "This is a path given relative to where you're currently standing (your working directory). It's like saying, \"From where you are, go two aisles over and check the bottom shelf\". The destination changes based on your starting point.\n",
    "Example: If your working directory is /Users/john_doe/Documents/, the relative path my_project/file.txt refers to the absolute path /Users/john_doe/Documents/my_project/file.txt.\n",
    "This is super handy when you want your code to be flexible and work in different environments without hardcoding the full path."
   ]
  },
  {
   "cell_type": "code",
   "execution_count": null,
   "metadata": {},
   "outputs": [],
   "source": [
    "with open(\"data/lab_1_dataset.csv\") as f:\n",
    "    print(f.readline()) # We read the first line of the CSV, which are the column names."
   ]
  },
  {
   "cell_type": "markdown",
   "metadata": {},
   "source": [
    "\n",
    "**Why does this matter?** When you're reading files, writing data, or importing modules in Python (or any language, really), you need to tell the program where to find things. If you don't understand your working directory or how to specify paths, you'll get errors or, even worse, accidentally modify the wrong files.\n",
    "\n",
    "So, even though it might seem boring, spending a little time to understand these concepts is a solid investment."
   ]
  },
  {
   "cell_type": "markdown",
   "metadata": {},
   "source": [
    "### The shortest Python recap ever\n",
    "\n",
    "#### **Lists**: Ordered collections. **Mutable.**"
   ]
  },
  {
   "cell_type": "code",
   "execution_count": null,
   "metadata": {},
   "outputs": [],
   "source": [
    "# Can contain different types (bad practice!)\n",
    "my_list = [1, 2, 3, 'Python', 4.5] \n",
    "my_list"
   ]
  },
  {
   "cell_type": "markdown",
   "metadata": {},
   "source": [
    "#### ❓ What do we mean by mutable? Give a code example."
   ]
  },
  {
   "cell_type": "code",
   "execution_count": null,
   "metadata": {},
   "outputs": [],
   "source": [
    "# YOUR EXAMPLE HERE"
   ]
  },
  {
   "cell_type": "markdown",
   "metadata": {},
   "source": [
    "#### ❓ Without running the code what do you think happened to my_list?"
   ]
  },
  {
   "cell_type": "markdown",
   "metadata": {},
   "source": [
    "#### ❓ Are integers mutable?"
   ]
  },
  {
   "cell_type": "code",
   "execution_count": null,
   "metadata": {},
   "outputs": [],
   "source": [
    "# YOUR EXAMPLE HERE"
   ]
  },
  {
   "cell_type": "markdown",
   "metadata": {},
   "source": [
    "#### **Dictionaries (dicts)**: Key-value pairs. Keys are unique.\n"
   ]
  },
  {
   "cell_type": "code",
   "execution_count": null,
   "metadata": {},
   "outputs": [],
   "source": [
    "my_dict = {'key': 'value', 'name': 'John', 'age': 25}\n",
    "my_dict"
   ]
  },
  {
   "cell_type": "code",
   "execution_count": null,
   "metadata": {},
   "outputs": [],
   "source": [
    "my_dict[\"key\"] = \"value2\"\n",
    "my_dict"
   ]
  },
  {
   "cell_type": "markdown",
   "metadata": {},
   "source": [
    "#### ❓ Are dicts immutable or mutable?"
   ]
  },
  {
   "cell_type": "code",
   "execution_count": null,
   "metadata": {},
   "outputs": [],
   "source": [
    "# YOUR EXAMPLE HERE"
   ]
  },
  {
   "cell_type": "markdown",
   "metadata": {},
   "source": [
    "#### **Tuples**: Like lists, but immutable. \n"
   ]
  },
  {
   "cell_type": "code",
   "execution_count": null,
   "metadata": {},
   "outputs": [],
   "source": [
    "my_tuple = (1, 2, 3, 'Python', 4.5)\n",
    "my_tuple"
   ]
  },
  {
   "cell_type": "markdown",
   "metadata": {},
   "source": [
    "#### ❓ Try changing the first element to \"one\""
   ]
  },
  {
   "cell_type": "code",
   "execution_count": null,
   "metadata": {},
   "outputs": [],
   "source": [
    "# RUN IT HERE"
   ]
  },
  {
   "cell_type": "markdown",
   "metadata": {},
   "source": [
    "The use case for tuples are firstly as a record. Tuple unpacking is also a handy feature."
   ]
  },
  {
   "cell_type": "code",
   "execution_count": null,
   "metadata": {},
   "outputs": [],
   "source": [
    "student1 = (\"John\", 22)\n",
    "student2 = (\"Alina\", 25)\n",
    "student3 = (\"Omar\", 21)\n",
    "\n",
    "student1_name, student1_age = student1"
   ]
  },
  {
   "cell_type": "markdown",
   "metadata": {},
   "source": [
    "#### **Sets**: Unordered collection of unique elements. **Mutable.**\n"
   ]
  },
  {
   "cell_type": "code",
   "execution_count": null,
   "metadata": {},
   "outputs": [],
   "source": [
    "my_set = {1, 2, 3, 3}  \n",
    "my_set.add(5)\n",
    "my_set"
   ]
  },
  {
   "cell_type": "code",
   "execution_count": null,
   "metadata": {},
   "outputs": [],
   "source": [
    "my_set.add(5)"
   ]
  },
  {
   "cell_type": "markdown",
   "metadata": {},
   "source": [
    "#### ❓ Do you know what makes sets special?"
   ]
  },
  {
   "cell_type": "markdown",
   "metadata": {},
   "source": [
    "#### **Comprehensions**: Concise way to create lists, dicts, sets.\n"
   ]
  },
  {
   "cell_type": "code",
   "execution_count": null,
   "metadata": {},
   "outputs": [],
   "source": [
    " #  List Comprehension\n",
    "squares = [x**2 for x in range(5)] \n",
    "squares"
   ]
  },
  {
   "cell_type": "code",
   "execution_count": null,
   "metadata": {},
   "outputs": [],
   "source": [
    "#Dict Comprehension:\n",
    "square_dict = {x: x**2 for x in range(5)}  # {0: 0, 1: 1, 2: 4, 3: 9, 4: 16}\n",
    "square_dict"
   ]
  },
  {
   "cell_type": "code",
   "execution_count": null,
   "metadata": {},
   "outputs": [],
   "source": [
    "# Set Comprehension:\n",
    "even_numbers = {x for x in range(10) if x % 2 == 0}  # {0, 2, 4, 6, 8}\n",
    "even_numbers"
   ]
  },
  {
   "cell_type": "code",
   "execution_count": null,
   "metadata": {},
   "outputs": [],
   "source": [
    "# (extra) Generator comprehension:\n",
    "long_lazy_list = (x for x in range(1000000000000000000000000000000))"
   ]
  },
  {
   "cell_type": "code",
   "execution_count": null,
   "metadata": {},
   "outputs": [],
   "source": [
    "long_lazy_list"
   ]
  },
  {
   "cell_type": "code",
   "execution_count": null,
   "metadata": {},
   "outputs": [],
   "source": [
    "next(long_lazy_list)"
   ]
  },
  {
   "cell_type": "code",
   "execution_count": null,
   "metadata": {},
   "outputs": [],
   "source": [
    "next(long_lazy_list)"
   ]
  },
  {
   "cell_type": "code",
   "execution_count": null,
   "metadata": {},
   "outputs": [],
   "source": [
    "next(long_lazy_list)"
   ]
  },
  {
   "cell_type": "code",
   "execution_count": null,
   "metadata": {},
   "outputs": [],
   "source": [
    "for item in long_lazy_list:\n",
    "    print(item)\n",
    "    if item == 10: break"
   ]
  },
  {
   "cell_type": "code",
   "execution_count": null,
   "metadata": {},
   "outputs": [],
   "source": [
    "next(long_lazy_list)"
   ]
  },
  {
   "cell_type": "markdown",
   "metadata": {},
   "source": [
    "#### ❓ (Extra) What do you think this generator comprehension did?"
   ]
  },
  {
   "cell_type": "markdown",
   "metadata": {},
   "source": [
    "#### **Functions**: Reusable code blocks. Defined using `def`.\n"
   ]
  },
  {
   "cell_type": "code",
   "execution_count": null,
   "metadata": {},
   "outputs": [],
   "source": [
    "def greet(name):\n",
    "    return f\"Hello, {name}!\"\n",
    "\n",
    "greet(\"students\")"
   ]
  },
  {
   "cell_type": "markdown",
   "metadata": {},
   "source": [
    "#### 💡 Avoid ambiguity by adding type hints to your code. \n",
    "\n",
    "This is one of the best ways to improve your code's readability.\n",
    "\n",
    "You also get strongly improved auto-complete. "
   ]
  },
  {
   "cell_type": "code",
   "execution_count": null,
   "metadata": {},
   "outputs": [],
   "source": [
    "def greet2(name: str) -> str:\n",
    "    return f\"Hello, {name} but with types\""
   ]
  },
  {
   "cell_type": "code",
   "execution_count": null,
   "metadata": {},
   "outputs": [],
   "source": [
    "# The types are hints, they can \"lie\"\n",
    "\n",
    "def greet3(name: int) -> int:\n",
    "    return f\"{name} is calling this with an int type hint but it's a string\"\n",
    "\n",
    "greet3(\"john\")"
   ]
  },
  {
   "cell_type": "code",
   "execution_count": null,
   "metadata": {},
   "outputs": [],
   "source": [
    "# Contrived example\n",
    "\n",
    "def add_numbers(a, b):\n",
    "    return a + b\n",
    "\n",
    "\n",
    "result = add_numbers(10, 20)  # This will work as expected\n",
    "result2 = add_numbers(\"Hello\", \"World\")  # This will also work, but may not be intended\n",
    "# result3 = add_numbers(\"Hello\", 20)  This will raise a TypeError at runtime\n"
   ]
  },
  {
   "cell_type": "code",
   "execution_count": null,
   "metadata": {},
   "outputs": [],
   "source": [
    "def add_numbers(a: int, b: int) -> int:\n",
    "    return a + b\n",
    "\n",
    "result = add_numbers(10, 20)  # This will work as expected\n",
    "result2 = add_numbers(\"Hello\", \"World\")  # Type checker will flag this as incorrect\n",
    "# result3 = add_numbers(\"Hello\", 20)  Type checker will flag this as incorrect too"
   ]
  },
  {
   "cell_type": "markdown",
   "metadata": {},
   "source": [
    "\n",
    "And there you have it: a bite-sized refresher on some of Python's foundational concepts!"
   ]
  }
 ],
 "metadata": {
  "kernelspec": {
   "display_name": "Python 3",
   "language": "python",
   "name": "python3"
  },
  "language_info": {
   "codemirror_mode": {
    "name": "ipython",
    "version": 3
   },
   "file_extension": ".py",
   "mimetype": "text/x-python",
   "name": "python",
   "nbconvert_exporter": "python",
   "pygments_lexer": "ipython3",
   "version": "3.13.3"
  },
  "orig_nbformat": 4
 },
 "nbformat": 4,
 "nbformat_minor": 2
}
